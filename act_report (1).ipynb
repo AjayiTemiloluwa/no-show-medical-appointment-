{
 "cells": [
  {
   "cell_type": "markdown",
   "metadata": {},
   "source": [
    "## Report: act_report"
   ]
  },
  {
   "cell_type": "markdown",
   "metadata": {},
   "source": [
    "This report is gives a brief summary on the analysis and visualization. This project is motivated and carried out on three datasets derived from the tweet archive of Twitter user @dog_rates, also known as WeRateDogs. WeRateDogs is a Twitter account that rates people's dogs with a humorous comment about the dog. WeRateDogs has over 4 million followers and has received international media coverage. WeRateDogs downloaded their Twitter archive and sent it to Udacity via email exclusively for you to use in this project. This archive contains basic tweet data (tweet ID, timestamp, text, etc.) for all 5000+ of their tweets as they stood on August 1, 2017.\n",
    "<p>This project is carried out three dataframes which have been wrangled to make analysis of the dataframes easier. The dataframes contains info about a tweet made about a dog, the source of the tweet, the number of retweet and favorites the tweet has, the date and time the tweet was posted, the stage of dog, the breed of the dog according to the three different image prediction algorithm. These variables will be analyzed and useful inferences will be deduced from the them concerning the tweets. Let's get started."
   ]
  },
  {
   "cell_type": "markdown",
   "metadata": {},
   "source": [
    "### Insights:\n",
    "####  Section A:  General stastistics of Tweets, retweets and favorites for each year.\n",
    "<ul>\n",
    "<li>In 2015, the total number of tweets is 655, with the highest tweets made on Nov 28 & 29(26 tweets) and an average of 14 tweets per day.\n",
    "\n",
    "<li>In 2016, the total number of tweets is 962, with the highest tweets made on July 04(10 tweets) and an average of 3 tweets per day.\n",
    "\n",
    "<li>In 2017, the total number of tweets is 354, with the highest tweets made on Feb 14(5 tweets each) and an average of 2 tweets per day.\n",
    "    \n",
    "<li>a total number of 5,488,150  retweets were made; 705,898 in 2015, 2,649,865 in 2016, 2,132,387 in 2017.\n",
    " "
   ]
  },
  {
   "cell_type": "markdown",
   "metadata": {},
   "source": [
    "![Fig 1](yearly_tweets_count.png)\n",
    "![Fig 2](daily_tweets_average.png)"
   ]
  },
  {
   "cell_type": "markdown",
   "metadata": {},
   "source": [
    "<ul>\n",
    "<li>The mean number of retweets per post in the year 2015 was 1077, in 2016 was 2754, and in 2017 was 6023, this showed the progressive increment of retweets for each post. In contrast, there was a progressive decrement in posting tweets over these years."
   ]
  },
  {
   "cell_type": "markdown",
   "metadata": {},
   "source": [
    "![fig 3](retweets_stastistics.png)\n",
    "![Fig 4](average_retweets_stastistics.png)"
   ]
  },
  {
   "cell_type": "markdown",
   "metadata": {},
   "source": [
    "<ul><li> There is a strong positive correlation between the retweeet_count and favorite_count column."
   ]
  },
  {
   "cell_type": "markdown",
   "metadata": {},
   "source": [
    "![Fig 5](favourite_&_retweet.png)"
   ]
  },
  {
   "cell_type": "markdown",
   "metadata": {},
   "source": [
    "<li> Wednesday have the highest average number of retweet_counts and favorite_counts with a value of 3487 and 9455 respectively. Thursday had the lowest number of retweets and favourites with a value of 2678 and 8138 respectively."
   ]
  },
  {
   "cell_type": "markdown",
   "metadata": {},
   "source": [
    "![fig 6](average_retweet_count.png)\n",
    "![fig 7](average_favorite_count.png)"
   ]
  },
  {
   "cell_type": "markdown",
   "metadata": {},
   "source": [
    "<li> Most of the tweets made were made from an iPhone(1932). Only few tweets were made from the web and tweetDeck, a value of 28 and 11 repectively.\n",
    " "
   ]
  },
  {
   "cell_type": "markdown",
   "metadata": {},
   "source": [
    "![fig 8](Statistics_of_tweets_source.png)"
   ]
  },
  {
   "cell_type": "markdown",
   "metadata": {},
   "source": [
    "\n",
    " #### Section B:  Predictions, dog breeds and stages \n",
    " \n",
    " <ul>  \n",
    " <li>The most correct algorithm; p1, was able to detect 111 dog breeds, 58 of these dogs had characteristics of a doggo with the pomeranian breed ad the most common, 64 had characteristics of a pupper with the most common being the golden retriever breed, 23 had puppo characteristics and 8 had that of a floofer.\n",
    "  <li>p2 was able to detect 113 breeds. 65 of these dogs had characteristics of a doggo with the labrador retriever breed ad the most common, 125 had characteristics of a pupper with the most common being the labrador retriever breed, 24 had puppo characteristics and 8 had that of a floofer.\n",
    "  <li> p3 detected 116 breeds\n",
    " </ul>\n",
    " \n",
    "#### Section c: Stastistics on some special properties of some dogs.\n",
    "<ul>\n",
    "    \n",
    "   <li>The dog named Oscar with the tweet_id '857263160327368704' is the dog with the most certain prediction of the first algorothm. While the dog Yogi an Ibizan_hound in the doggo  stage with the id '884162670584377345' has the most uncertain prediction by the first algorithm.\n",
    "    <li>The tweet about a dog without name in the doggo state with the tweet_id '744234799360020481' is the dog with the highest number of retweets(79515). While another dog a golden_retriever with the id '666102155909144576' has the lowest(16) number of retweets.\n",
    "<li>the tweet about a dog without name in the doggo state with the tweet_id '744234799360020481' is the dog with the highest number of retweets(79515). While another dog a golden_retriever with the id '666102155909144576' has the lowest(16) number of retweets.\n",
    " <li>The tweet about a dog of the cardigan breed with the id '668291999406125056'had the highest number of favourites(132810). Some tweets have no favourite count.\n",
    "  <li> The dog with the highest rating have a tweet_id '838916489579200512' is of the breed pug and it has a rating of 15/10.\n",
    "\n",
    "</ul> \n",
    "\n"
   ]
  },
  {
   "cell_type": "markdown",
   "metadata": {},
   "source": [
    "*!!! Fun facts: If you want a dog in the doggo stage, it is advisable you go for a Pomeranian, a pembroke, or a golden retriever breed. These dogs have a higher probability of becoming a doggo. if you want a pupper, go for golden_retriever, Labrador_retriever, Chihuahua.\n"
   ]
  },
  {
   "cell_type": "markdown",
   "metadata": {},
   "source": []
  }
 ],
 "metadata": {
  "kernelspec": {
   "display_name": "Python 3 (ipykernel)",
   "language": "python",
   "name": "python3"
  },
  "language_info": {
   "codemirror_mode": {
    "name": "ipython",
    "version": 3
   },
   "file_extension": ".py",
   "mimetype": "text/x-python",
   "name": "python",
   "nbconvert_exporter": "python",
   "pygments_lexer": "ipython3",
   "version": "3.9.13"
  }
 },
 "nbformat": 4,
 "nbformat_minor": 2
}
